{
 "cells": [
  {
   "cell_type": "code",
   "execution_count": 22,
   "metadata": {},
   "outputs": [
    {
     "name": "stdout",
     "output_type": "stream",
     "text": [
      "Loading previous config file from the directory ./synthetic_triplets/variational/0mio/sslab/100/16/1.0/42 to continue training\n",
      "Start training the model\n",
      "Stopped training after 2 epochs. Model has converged or max number of epochs have been reached!\n"
     ]
    },
    {
     "data": {
      "text/plain": [
       "CompletedProcess(args='python3 ../run_optimization.py --triplet_path ./synthetic_triplets --n_epochs 2 --batch_size 16 --init_dim 100 --log_path ./synthetic_triplets', returncode=0)"
      ]
     },
     "execution_count": 22,
     "metadata": {},
     "output_type": "execute_result"
    }
   ],
   "source": [
    "import os \n",
    "import subprocess\n",
    "import numpy as np\n",
    "\n",
    "def generate_synthetic_triplets():\n",
    "    num_objects = 1854\n",
    "    triplets = np.random.randint(0, num_objects, (1000, 3))\n",
    "    train, test = triplets[:900], triplets[900:]    \n",
    "    return train, test\n",
    "\n",
    "train, test = generate_synthetic_triplets()\n",
    "dpath = \"./synthetic_triplets\"\n",
    "os.makedirs(dpath, exist_ok=True)\n",
    "\n",
    "np.savetxt(os.path.join(dpath, \"train_90.txt\"), train, fmt=\"%d\")\n",
    "np.savetxt(os.path.join(dpath, \"test_10.txt\"), test, fmt=\"%d\")\n",
    "\n",
    "\n",
    "cmd = f\"python3 ../run_optimization.py --triplet_path {dpath} --n_epochs 2 --batch_size 16 --init_dim 100 --log_path {dpath}\"\n",
    "subprocess.run(cmd, shell=True)"
   ]
  }
 ],
 "metadata": {
  "kernelspec": {
   "display_name": ".venv",
   "language": "python",
   "name": "python3"
  },
  "language_info": {
   "codemirror_mode": {
    "name": "ipython",
    "version": 3
   },
   "file_extension": ".py",
   "mimetype": "text/x-python",
   "name": "python",
   "nbconvert_exporter": "python",
   "pygments_lexer": "ipython3",
   "version": "3.9.12"
  }
 },
 "nbformat": 4,
 "nbformat_minor": 2
}
